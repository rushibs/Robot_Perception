{
 "cells": [
  {
   "cell_type": "code",
   "execution_count": 1,
   "metadata": {},
   "outputs": [],
   "source": [
    "import numpy as np\n",
    "import cv2\n",
    "from cv2 import aruco\n",
    "import os"
   ]
  },
  {
   "cell_type": "code",
   "execution_count": 2,
   "metadata": {},
   "outputs": [
    {
     "data": {
      "text/plain": [
       "True"
      ]
     },
     "execution_count": 2,
     "metadata": {},
     "output_type": "execute_result"
    }
   ],
   "source": [
    "aruco_dict = aruco.Dictionary_get(aruco.DICT_6X6_1000)\n",
    "# Dimensions in cm\n",
    "marker_length = 2.00\n",
    "marker_separation = 0.8\n",
    "arucoParams = aruco.DetectorParameters_create()\n",
    "board = aruco.GridBoard_create(1, 1, marker_length, marker_separation, aruco_dict)\n",
    "imboard = board.draw((250,250))\n",
    "\n",
    "cv2.imwrite('/home/rushi/College/Fall_2022/Perception/HW1/board2.jpg', imboard)"
   ]
  },
  {
   "cell_type": "code",
   "execution_count": 3,
   "metadata": {},
   "outputs": [],
   "source": [
    "counter, corners_list, id_list = [], [], []\n",
    "first = 0\n",
    "\n",
    "image = cv2.imread('/home/rushi/College/Fall_2022/Perception/HW1/Q4/IMG_7743.png')\n",
    "img_gray = cv2.cvtColor(image, cv2.COLOR_BGR2GRAY)\n",
    "arucoParams = cv2.aruco.DetectorParameters_create()\n",
    "\n",
    "corners, ids, rejected = aruco.detectMarkers(img_gray, aruco_dict, parameters=arucoParams)\n",
    "\n",
    "\n",
    "cam_mtx = np.array([[3.01946421e+03, 0.00000000e+00, 1.56784832e+03], [0.00000000e+00, 3.00907755e+03, 2.04207997e+03],\n",
    " [0.00000000e+00, 0.00000000e+00, 1.00000000e+00]])\n",
    "\n",
    "\n",
    "dist = np.array([[ 0.16871492, -1.04803059,  0.00373115,  0.00446657,  1.50583545]])\n"
   ]
  },
  {
   "cell_type": "code",
   "execution_count": 4,
   "metadata": {},
   "outputs": [],
   "source": [
    "marker_length = 4\n",
    "l = marker_length/2\n",
    "axis = np.float32([[-l, -l, 0], [-l, l, 0], [l, l, 0], [l, -l, 0],\n",
    "                   [-l, -l, marker_length], [-l, l, marker_length], [l, l, marker_length], [l, -l, marker_length]])\n",
    "\n",
    "if len(corners) > 0:\n",
    "    rvec, tvec, marker_points = aruco.estimatePoseSingleMarkers(corners[0], marker_length, cam_mtx, dist)\n",
    "    aruco.drawDetectedMarkers(image, corners)\n",
    "    pts, jac = cv2.projectPoints(axis, rvec, tvec, cam_mtx, dist)\n",
    "    pts = np.int32(pts).reshape(-1,2)\n",
    "    cv2.drawContours(image, [pts[:4]],-1,(0,255,0),2)\n",
    "\n",
    "    for i,j in zip(range(4),range(4,8)):\n",
    "        cv2.line(image, tuple(pts[i]), tuple(pts[j]),(255),3)\n",
    "    cv2.drawContours(image, [pts[4:]],-1,(0,0,255),3)\n",
    "\n",
    "cv2.imwrite(image, '/home/rushi/College/Fall_2022/Perception/HW1/Q4/new.png')\n",
    "cv2.namedWindow(\"image\", cv2.WINDOW_NORMAL)\n",
    "cv2.imshow(\"image\", image)\n",
    "cv2.waitKey(0)"
   ]
  }
 ],
 "metadata": {
  "kernelspec": {
   "display_name": "Python 3.8.10 64-bit",
   "language": "python",
   "name": "python3"
  },
  "language_info": {
   "codemirror_mode": {
    "name": "ipython",
    "version": 3
   },
   "file_extension": ".py",
   "mimetype": "text/x-python",
   "name": "python",
   "nbconvert_exporter": "python",
   "pygments_lexer": "ipython3",
   "version": "3.8.10"
  },
  "orig_nbformat": 4,
  "vscode": {
   "interpreter": {
    "hash": "916dbcbb3f70747c44a77c7bcd40155683ae19c65e1c03b4aa3499c5328201f1"
   }
  }
 },
 "nbformat": 4,
 "nbformat_minor": 2
}
