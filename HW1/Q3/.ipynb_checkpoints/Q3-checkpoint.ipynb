{
 "cells": [
  {
   "cell_type": "code",
   "execution_count": 2,
   "metadata": {},
   "outputs": [
    {
     "ename": "ImportError",
     "evalue": "cannot import name 'aruco' from 'cv2' (/home/rushi/.local/lib/python3.8/site-packages/cv2/__init__.py)",
     "output_type": "error",
     "traceback": [
      "\u001b[0;31m---------------------------------------------------------------------------\u001b[0m",
      "\u001b[0;31mImportError\u001b[0m                               Traceback (most recent call last)",
      "Cell \u001b[0;32mIn [2], line 3\u001b[0m\n\u001b[1;32m      1\u001b[0m \u001b[38;5;28;01mimport\u001b[39;00m \u001b[38;5;21;01mnumpy\u001b[39;00m \u001b[38;5;28;01mas\u001b[39;00m \u001b[38;5;21;01mnp\u001b[39;00m\n\u001b[1;32m      2\u001b[0m \u001b[38;5;28;01mimport\u001b[39;00m \u001b[38;5;21;01mcv2\u001b[39;00m\n\u001b[0;32m----> 3\u001b[0m \u001b[38;5;28;01mfrom\u001b[39;00m \u001b[38;5;21;01mcv2\u001b[39;00m \u001b[38;5;28;01mimport\u001b[39;00m aruco\n\u001b[1;32m      4\u001b[0m \u001b[38;5;28;01mimport\u001b[39;00m \u001b[38;5;21;01mos\u001b[39;00m\n",
      "\u001b[0;31mImportError\u001b[0m: cannot import name 'aruco' from 'cv2' (/home/rushi/.local/lib/python3.8/site-packages/cv2/__init__.py)"
     ]
    }
   ],
   "source": [
    "import numpy as np\n",
    "import cv2\n",
    "from cv2 import aruco\n",
    "import os"
   ]
  },
  {
   "cell_type": "code",
   "execution_count": 10,
   "metadata": {},
   "outputs": [
    {
     "data": {
      "text/plain": [
       "True"
      ]
     },
     "execution_count": 10,
     "metadata": {},
     "output_type": "execute_result"
    }
   ],
   "source": [
    "aruco_dict = aruco.Dictionary_get(aruco.DICT_6X6_1000)\n",
    "# Dimensions in cm\n",
    "marker_length = 2.00\n",
    "marker_separation = 0.8\n",
    "arucoParams = aruco.DetectorParameters_create()\n",
    "board = aruco.GridBoard_create(5, 6, marker_length, marker_separation, aruco_dict)\n",
    "imboard = board.draw((4000,4000))\n",
    "\n",
    "cv2.imwrite('/home/rushi/College/Fall_2022/Perception/HW1/Q3/board.jpg', imboard)"
   ]
  },
  {
   "cell_type": "code",
   "execution_count": 11,
   "metadata": {},
   "outputs": [
    {
     "ename": "TypeError",
     "evalue": "object of type 'NoneType' has no len()",
     "output_type": "error",
     "traceback": [
      "\u001b[0;31m---------------------------------------------------------------------------\u001b[0m",
      "\u001b[0;31mTypeError\u001b[0m                                 Traceback (most recent call last)",
      "Cell \u001b[0;32mIn [11], line 20\u001b[0m\n\u001b[1;32m     18\u001b[0m         id_list \u001b[39m=\u001b[39m np\u001b[39m.\u001b[39mvstack((id_list,ids))\n\u001b[1;32m     19\u001b[0m     first \u001b[39m=\u001b[39m first \u001b[39m+\u001b[39m \u001b[39m1\u001b[39m\n\u001b[0;32m---> 20\u001b[0m     counter\u001b[39m.\u001b[39mappend(\u001b[39mlen\u001b[39;49m(ids))\n\u001b[1;32m     22\u001b[0m counter \u001b[39m=\u001b[39m np\u001b[39m.\u001b[39marray(counter)\n\u001b[1;32m     23\u001b[0m \u001b[39m# Calibration\u001b[39;00m\n",
      "\u001b[0;31mTypeError\u001b[0m: object of type 'NoneType' has no len()"
     ]
    }
   ],
   "source": [
    "counter, corners_list, id_list = [], [], []\n",
    "# img_dir = '/home/rushi/College/Fall_2022/Perception/HW1/Q3/data'\n",
    "img_dir = '/home/rushi/College/Fall_2022/Perception/HW2/Task3/data'\n",
    "first = 0\n",
    "\n",
    "for img_name in os.listdir(img_dir):\n",
    "    img = img_dir + \"/\" + img_name\n",
    "    image = cv2.imread(str(img))\n",
    "    # print(np.shape(image))\n",
    "    img_gray = cv2.cvtColor(image, cv2.COLOR_BGR2GRAY)\n",
    "    corners, ids, rejected = aruco.detectMarkers(img_gray, aruco_dict, parameters=arucoParams)\n",
    "    # print(ids)\n",
    "    if first == 0:\n",
    "        corners_list = corners\n",
    "        id_list = ids\n",
    "    else:\n",
    "        corners_list = np.vstack((corners_list, corners))\n",
    "        id_list = np.vstack((id_list,ids))\n",
    "    first = first + 1\n",
    "    counter.append(len(ids))\n",
    "\n",
    "counter = np.array(counter)\n",
    "# Calibration\n",
    "ret, mtx, dist, rvecs, tvecs = aruco.calibrateCameraAruco(\n",
    "    corners_list, \n",
    "    id_list,\n",
    "    counter, \n",
    "    board, \n",
    "    img_gray.shape, \n",
    "    None, \n",
    "    None \n",
    "    )\n",
    "print( 'K = ', mtx)\n",
    "print('d = ', dist)"
   ]
  },
  {
   "cell_type": "code",
   "execution_count": null,
   "metadata": {},
   "outputs": [],
   "source": []
  }
 ],
 "metadata": {
  "kernelspec": {
   "display_name": "Python 3 (ipykernel)",
   "language": "python",
   "name": "python3"
  },
  "language_info": {
   "codemirror_mode": {
    "name": "ipython",
    "version": 3
   },
   "file_extension": ".py",
   "mimetype": "text/x-python",
   "name": "python",
   "nbconvert_exporter": "python",
   "pygments_lexer": "ipython3",
   "version": "3.8.10"
  },
  "vscode": {
   "interpreter": {
    "hash": "916dbcbb3f70747c44a77c7bcd40155683ae19c65e1c03b4aa3499c5328201f1"
   }
  }
 },
 "nbformat": 4,
 "nbformat_minor": 2
}
