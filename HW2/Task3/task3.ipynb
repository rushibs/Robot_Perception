{
 "cells": [
  {
   "cell_type": "code",
   "execution_count": null,
   "metadata": {},
   "outputs": [],
   "source": [
    "import numpy as np\n",
    "import math\n",
    "from scipy.linalg import svd\n",
    "import cv2 as cv\n",
    "import glob\n",
    "from matplotlib import pyplot as plt"
   ]
  },
  {
   "cell_type": "code",
   "execution_count": null,
   "metadata": {},
   "outputs": [],
   "source": [
    "### Calulating Camera Matrix\n",
    "\n",
    "CHECKERBOARD = (8, 6)   # Defining the dimensions of checkerboard\n",
    "criteria = (cv.TERM_CRITERIA_EPS + cv.TERM_CRITERIA_MAX_ITER, 30, 0.001)\n",
    "objpoints = []   # Creating vector to store vectors of 3D points for each checkerboard image\n",
    "imgpoints = []   # Creating vector to store vectors of 2D points for each checkerboard image\n",
    "\n",
    "\n",
    "# Defining the world coordinates for 3D points\n",
    "objp = np.zeros((1, CHECKERBOARD[0] * CHECKERBOARD[1], 3), np.float32)\n",
    "objp[0, :, :2] = np.mgrid[0:CHECKERBOARD[0],\n",
    "                          0:CHECKERBOARD[1]].T.reshape(-1, 2)\n",
    "prev_img_shape = None"
   ]
  },
  {
   "cell_type": "code",
   "execution_count": null,
   "metadata": {},
   "outputs": [],
   "source": [
    "images = glob.glob('/home/rushi/College/Fall_2022/Perception/HW2/Task3/data/*.jpg')\n",
    "for fname in images:\n",
    "    img = cv.imread(fname)\n",
    "    gray = cv.cvtColor(img, cv.COLOR_BGR2GRAY)\n",
    "    # Find the chess board corners\n",
    "    # If desired number of corners are found in the image then ret = true\n",
    "    ret, corners = cv.findChessboardCorners(\n",
    "        gray, CHECKERBOARD, cv.CALIB_CB_ADAPTIVE_THRESH + cv.CALIB_CB_FAST_CHECK + cv.CALIB_CB_NORMALIZE_IMAGE)\n",
    "\n",
    "    if ret == True:\n",
    "        objpoints.append(objp)\n",
    "        # refining pixel coordinates for given 2d points.\n",
    "        corners2 = cv.cornerSubPix(\n",
    "            gray, corners, (11, 11), (-1, -1), criteria)\n",
    "\n",
    "        imgpoints.append(corners2)\n",
    "\n",
    "        # Draw and display the corners\n",
    "        img = cv.drawChessboardCorners(img, CHECKERBOARD, corners2, ret)\n",
    "\n",
    "cv.destroyAllWindows()\n",
    "\n",
    "h, w = img.shape[:2]\n",
    "\n",
    "ret, K, dist, rvecs, tvecs = cv.calibrateCamera(objpoints, imgpoints, gray.shape[::-1], None, None)"
   ]
  },
  {
   "cell_type": "code",
   "execution_count": null,
   "metadata": {},
   "outputs": [],
   "source": [
    "#Printing Camera Matrix\n",
    "\n",
    "print(\"Camera matrix : \\n\")\n",
    "print(K)\n",
    "print(\"dist : \\n\")\n",
    "print(dist)"
   ]
  },
  {
   "cell_type": "code",
   "execution_count": null,
   "metadata": {},
   "outputs": [],
   "source": [
    "def homogeneous_coord(pts):\n",
    "    points = []\n",
    "    for i in range(len(pts)):\n",
    "        points.append([pts[i][0], pts[i][1]])\n",
    "\n",
    "    # Convert to homogenous coordinates\n",
    "    return np.concatenate((points, np.ones((len(points), 1))), axis=1)\n",
    "\n",
    "def normalize(pts):\n",
    "    mean = np.mean(pts, axis=0)\n",
    "    centered = pts - mean * np.ones(pts.shape)\n",
    "    squared = centered * centered\n",
    "    distance = np.sqrt(squared[:, 0] + squared[:, 1])\n",
    "    std = np.mean(distance)\n",
    "    Tr1 = np.array([[1, 0, -mean[0]], [0, 1, -mean[1]], [0, 0, 1]])\n",
    "    Tr2 = np.array([[math.sqrt(2) / std, 0, 0],\n",
    "                   [0, math.sqrt(2) / std, 0], [0, 0, 1]])\n",
    "    Tr = Tr2 @ Tr1\n",
    "    return ((Tr @ pts.T).T, Tr)\n",
    "\n",
    "def estimate_fundamental_matrix(p1, p2):\n",
    "    # Linear Solution\n",
    "    A_list = []\n",
    "    for i in range(p1.shape[0]):\n",
    "        u1 = p1[i][0]\n",
    "        v1 = p1[i][1]\n",
    "        u2 = p2[i][0]\n",
    "        v2 = p2[i][1]\n",
    "\n",
    "        # u1u1' v1u1' u1' u1v1' v1v1' v1' u1 v1 1\n",
    "        # u1u2  v1u2  u2  u1v2  v1v2  v2  u1 v1 1\n",
    "        A_list.append([u1*u2, v1*u2, u2, u1*v2, v1*v2, v2, u1, v1, 1])\n",
    "    A = np.array(A_list)\n",
    "    _, _, Vt = svd(A, full_matrices=False, overwrite_a=True)\n",
    "    f = Vt[-1].reshape(3, 3)\n",
    "\n",
    "    # Enforce 2-rank constraint\n",
    "    s, v, d = svd(f, full_matrices=False, overwrite_a=True)\n",
    "    f_hat = s @ np.diag([*v[:2], 0]) @ d\n",
    "    print(\"Determinant of f_hat is: \", np.linalg.det(f_hat))\n",
    "    return f_hat"
   ]
  },
  {
   "cell_type": "code",
   "execution_count": null,
   "metadata": {},
   "outputs": [],
   "source": [
    "##    Drawing the epilines\n",
    "\n",
    "def drawlines(img1,img2,lines,pts1,pts2):\n",
    "    ''' img1 - image on which we draw the epilines for the points in img2\n",
    "        lines - corresponding epilines '''\n",
    "    r,c = img1.shape\n",
    "    img1 = cv.cvtColor(img1,cv.COLOR_GRAY2BGR)\n",
    "    img2 = cv.cvtColor(img2,cv.COLOR_GRAY2BGR)\n",
    "    for r,pt1,pt2 in zip(lines,pts1,pts2):\n",
    "        color = tuple(np.random.randint(0,255,3).tolist())\n",
    "        x0,y0 = map(int, [0, -r[2]/r[1] ])\n",
    "        x1,y1 = map(int, [c, -(r[2]+r[0]*c)/r[1] ])\n",
    "        img1 = cv.line(img1, (x0,y0), (x1,y1), color,1)\n",
    "        img1 = cv.circle(img1,tuple(pt1),5,color,-1)\n",
    "        img2 = cv.circle(img2,tuple(pt2),5,color,-1)\n",
    "    return img1,img2\n",
    "\n",
    "img1 = cv.imread('/home/rushi/College/Fall_2022/Perception/HW2/Task3/left.jpg',0) ## Left Image\n",
    "img2 = cv.imread('/home/rushi/College/Fall_2022/Perception/HW2/Task3/right.jpg',0)  ## Right image\n",
    "\n",
    "sift = cv.SIFT_create()\n",
    "\n",
    "# find the keypoints and descriptors with SIFT\n",
    "kp1, des1 = sift.detectAndCompute(img1,None)\n",
    "kp2, des2 = sift.detectAndCompute(img2,None)\n",
    "# FLANN parameters\n",
    "FLANN_INDEX_KDTREE = 1\n",
    "index_params = dict(algorithm = FLANN_INDEX_KDTREE, trees = 5)\n",
    "search_params = dict(checks=50)\n",
    "flann = cv.FlannBasedMatcher(index_params,search_params)\n",
    "matches = flann.knnMatch(des1,des2,k=2)\n",
    "pts1 = []\n",
    "pts2 = []"
   ]
  },
  {
   "cell_type": "code",
   "execution_count": null,
   "metadata": {},
   "outputs": [],
   "source": [
    "## Getting the Fundamental Matrix\n",
    "\n",
    "# ratio test using Lowe's paper\n",
    "for i,(m,n) in enumerate(matches):\n",
    "    if m.distance < 0.8*n.distance:\n",
    "        pts2.append(kp2[m.trainIdx].pt)\n",
    "        pts1.append(kp1[m.queryIdx].pt)\n",
    "\n",
    "pts1 = np.int32(pts1)\n",
    "pts2 = np.int32(pts2)\n",
    "\n",
    "pt1_homo = homogeneous_coord(pts1)\n",
    "pt2_homo = homogeneous_coord(pts2)\n",
    "\n",
    "\n",
    "p1, Tr_p1 = normalize(pt1_homo)\n",
    "p2, Tr_p2 = normalize(pt2_homo)\n",
    "\n",
    "f_hat = estimate_fundamental_matrix(p1, p2)\n",
    "F = Tr_p2.T @ f_hat @ Tr_p1\n",
    "\n",
    "print(\"Fundamental Matrix is: \", F) "
   ]
  },
  {
   "cell_type": "code",
   "execution_count": null,
   "metadata": {},
   "outputs": [],
   "source": [
    "# Finding epilines corresponding to points in right image (second image) and drawing its lines on left image\n",
    "lines1 = cv.computeCorrespondEpilines(pts2.reshape(-1,1,2), 2,F)\n",
    "lines1 = lines1.reshape(-1,3)\n",
    "img5,img6 = drawlines(img1,img2,lines1,pts1,pts2)\n",
    "\n",
    "# Find epilines corresponding to points in left image (first image) and\n",
    "# drawing its lines on right image\n",
    "lines2 = cv.computeCorrespondEpilines(pts1.reshape(-1,1,2), 1,F)\n",
    "lines2 = lines2.reshape(-1,3)\n",
    "img3,img4 = drawlines(img2,img1,lines2,pts2,pts1)\n",
    "plt.subplot(121),plt.title('left_result'),plt.imshow(img5)\n",
    "plt.subplot(122),plt.title('right_result'),plt.imshow(img3)\n",
    "plt.show()"
   ]
  },
  {
   "cell_type": "code",
   "execution_count": null,
   "metadata": {},
   "outputs": [],
   "source": [
    "#### Equation for calculationg the fundamental matrix\n",
    "essential_mtx = K.T @ F @ K\n",
    "print(\"Essential Matrix: \\n\\n\", essential_mtx)"
   ]
  },
  {
   "cell_type": "code",
   "execution_count": null,
   "metadata": {},
   "outputs": [],
   "source": [
    "## Decomposing the Essential matrix\n",
    "\n",
    "U, S, Vt = svd(essential_mtx)\n",
    "t = U[:,-1]\n",
    "W = np.array([[0, -1.0, 0],\n",
    "            [1.0, 0, 0],\n",
    "            [0, 0, 1.0]])\n",
    "R1 = -np.dot(U, np.dot(W, Vt))\n",
    "R2 = -np.dot(U, np.dot(W.T, Vt))\n",
    "\n",
    "### USE THESE IF YOUR PYTHON VERSION IS >=3.9\n",
    "# R1 = np.dot(U, np.dot(W, Vt))\n",
    "# R2 = np.dot(U, np.dot(W.T, Vt))\n",
    "\n",
    "print(\"R1 = \\n\", R1, \"\\n\\n R2 = \\n\", R2, \"\\n\\n t = \\n\", t)"
   ]
  }
 ],
 "metadata": {
  "kernelspec": {
   "display_name": "Python 3.8.10 64-bit",
   "language": "python",
   "name": "python3"
  },
  "language_info": {
   "codemirror_mode": {
    "name": "ipython",
    "version": 3
   },
   "file_extension": ".py",
   "mimetype": "text/x-python",
   "name": "python",
   "nbconvert_exporter": "python",
   "pygments_lexer": "ipython3",
   "version": "3.8.10"
  },
  "orig_nbformat": 4,
  "vscode": {
   "interpreter": {
    "hash": "916dbcbb3f70747c44a77c7bcd40155683ae19c65e1c03b4aa3499c5328201f1"
   }
  }
 },
 "nbformat": 4,
 "nbformat_minor": 2
}
