{
 "cells": [
  {
   "cell_type": "code",
   "execution_count": 1,
   "metadata": {},
   "outputs": [
    {
     "name": "stdout",
     "output_type": "stream",
     "text": [
      "Jupyter environment detected. Enabling Open3D WebVisualizer.\n",
      "[Open3D INFO] WebRTC GUI backend enabled.\n",
      "[Open3D INFO] WebRTCWindowSystem: HTTP handshake server disabled.\n"
     ]
    }
   ],
   "source": [
    "import numpy as np\n",
    "import open3d as o3d\n",
    "import copy\n",
    "from sklearn.neighbors import NearestNeighbors\n",
    "demo_icp_pcds = o3d.data.DemoICPPointClouds()\n",
    "source = o3d.io.read_point_cloud(demo_icp_pcds.paths[0])\n",
    "target = o3d.io.read_point_cloud(demo_icp_pcds.paths[1])"
   ]
  },
  {
   "cell_type": "code",
   "execution_count": 2,
   "metadata": {},
   "outputs": [],
   "source": [
    "num_tests = 100  \n",
    "trans_init = np.asarray([[0.862, 0.011, -0.507, 0.5],\n",
    "                         [-0.139, 0.967, -0.215, 0.7],\n",
    "                         [0.487, 0.255, 0.835, -1.4], [0.0, 0.0, 0.0, 1.0]])\n",
    "source = source.transform(trans_init)\n",
    "my_target = np.asarray(target.points)\n",
    "my_source = np.asarray(source.points[:my_target.shape[0]])"
   ]
  },
  {
   "cell_type": "code",
   "execution_count": 6,
   "metadata": {},
   "outputs": [],
   "source": [
    "## Calculating the least-squares best-fit transform that maps corresponding points A to B in m spatial dimensions\n",
    "\n",
    "def best_fit_transform(A, B):\n",
    "\n",
    "    m = A.shape[1]\n",
    "    A = A.T\n",
    "    B = B.T\n",
    "    centroid_A = np.mean(A, axis=1)\n",
    "    centroid_B = np.mean(B, axis=1)    \n",
    "    centroid_A = centroid_A.reshape(-1, 1)\n",
    "    centroid_B = centroid_B.reshape(-1, 1)\n",
    "\n",
    "    # Getting the difference from mean\n",
    "    A_mean = A - centroid_A\n",
    "    B_mean = B - centroid_B\n",
    "\n",
    "    Hom = A_mean @ np.transpose(B_mean)\n",
    "\n",
    "    # find rotation\n",
    "    U, S, Vt = np.linalg.svd(Hom)\n",
    "    R = Vt.T @ U.T\n",
    "\n",
    "    t = -R @ centroid_A + centroid_B\n",
    "\n",
    "    # homogeneous transformation\n",
    "    T = np.identity(m+1)\n",
    "    T[:m, :m] = R\n",
    "    T[:m, m] = t.T\n",
    "\n",
    "    return T, R, t\n",
    "\n",
    "## Finding the nearest (Euclidean) neighbor in dst for each point in src\n",
    "\n",
    "def nearest_neighbor(src, dst):\n",
    "    assert src.shape == dst.shape\n",
    "\n",
    "    neigh = NearestNeighbors(n_neighbors=1)\n",
    "    neigh.fit(dst)\n",
    "    distances, indices = neigh.kneighbors(src, return_distance=True)\n",
    "    return distances.ravel(), indices.ravel()"
   ]
  },
  {
   "cell_type": "code",
   "execution_count": 8,
   "metadata": {},
   "outputs": [
    {
     "name": "stdout",
     "output_type": "stream",
     "text": [
      "[[ 0.99999092 -0.00188073 -0.003824   -0.00243311]\n",
      " [ 0.00198401  0.99962844  0.02718542 -0.09554388]\n",
      " [ 0.00377145 -0.02719276  0.99962309  0.05347158]\n",
      " [ 0.          0.          0.          1.        ]]\n"
     ]
    }
   ],
   "source": [
    "## The Iterative Closest Point method: finds best-fit transform that maps points A on to points B\n",
    "\n",
    "def icp(A, B, init_pose=None, max_iterations=20, tolerance=0.001):\n",
    "\n",
    "    assert A.shape == B.shape\n",
    "    m = A.shape[1]\n",
    "    # make points homogeneous, copy them to maintain the originals\n",
    "    src = np.ones((m+1, A.shape[0]))\n",
    "    dst = np.ones((m+1, B.shape[0]))\n",
    "    src[:m, :] = np.copy(A.T)\n",
    "    dst[:m, :] = np.copy(B.T)\n",
    "    \n",
    "   \n",
    "    if init_pose is not None:\n",
    "        src = np.dot(init_pose, src)\n",
    "\n",
    "    prev_error = 0\n",
    "\n",
    "    for i in range(max_iterations):\n",
    "        \n",
    "        distances, indices = nearest_neighbor(src[:m, :].T, dst[:m, :].T)\n",
    "        T, _, _ = best_fit_transform(src[:m, :].T, dst[:m, indices].T)\n",
    "        src = np.dot(T, src)  # update the current source\n",
    "        mean_error = np.mean(distances) # check error\n",
    "        if np.abs(prev_error - mean_error) < tolerance:\n",
    "            break\n",
    "        prev_error = mean_error\n",
    "    T, _, _ = best_fit_transform(A, src[:m, :].T)  # calculating final transformation\n",
    "\n",
    "    return T, distances, i\n",
    "\n",
    "def trans():\n",
    "\n",
    "    A = my_source\n",
    "    for i in range(num_tests):\n",
    "        B = my_target        \n",
    "        T, distances, iterations = icp(B, A, tolerance=0.1)\n",
    "    print(T)\n",
    "    return T\n",
    "T = trans()"
   ]
  },
  {
   "cell_type": "code",
   "execution_count": 5,
   "metadata": {},
   "outputs": [],
   "source": [
    "def draw_registration_result(source, target, transformation):\n",
    "    \"\"\"\n",
    "    param: source - source point cloud\n",
    "    param: target - target point cloud\n",
    "    param: transformation - 4 X 4 homogeneous transformation matrix\n",
    "    \"\"\"\n",
    "    source_temp = copy.deepcopy(source)\n",
    "    target_temp = copy.deepcopy(target)\n",
    "    source_temp.paint_uniform_color([1, 0.706, 0])\n",
    "    target_temp.paint_uniform_color([0, 0.651, 0.929])\n",
    "    source_temp.transform(transformation)\n",
    "    o3d.visualization.draw_geometries([source_temp, target_temp],\n",
    "    zoom=0.4459,\n",
    "    front=[0.9288, -0.2951, -0.2242],\n",
    "    lookat=[1.6784, 2.0612, 1.4451],\n",
    "    up=[-0.3402, -0.9189, -0.1996])\n",
    "\n",
    "draw_registration_result(target, source, T)"
   ]
  }
 ],
 "metadata": {
  "kernelspec": {
   "display_name": "Python 3.8.10 64-bit",
   "language": "python",
   "name": "python3"
  },
  "language_info": {
   "codemirror_mode": {
    "name": "ipython",
    "version": 3
   },
   "file_extension": ".py",
   "mimetype": "text/x-python",
   "name": "python",
   "nbconvert_exporter": "python",
   "pygments_lexer": "ipython3",
   "version": "3.8.10"
  },
  "orig_nbformat": 4,
  "vscode": {
   "interpreter": {
    "hash": "916dbcbb3f70747c44a77c7bcd40155683ae19c65e1c03b4aa3499c5328201f1"
   }
  }
 },
 "nbformat": 4,
 "nbformat_minor": 2
}
